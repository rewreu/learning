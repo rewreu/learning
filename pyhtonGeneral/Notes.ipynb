{
  "nbformat": 4,
  "nbformat_minor": 0,
  "metadata": {
    "colab": {
      "name": "Notes.ipynb",
      "provenance": [],
      "collapsed_sections": [],
      "include_colab_link": true
    },
    "kernelspec": {
      "name": "python3",
      "display_name": "Python 3"
    }
  },
  "cells": [
    {
      "cell_type": "markdown",
      "metadata": {
        "id": "view-in-github",
        "colab_type": "text"
      },
      "source": [
        "<a href=\"https://colab.research.google.com/github/rewreu/learning/blob/master/pyhtonGeneral/Notes.ipynb\" target=\"_parent\"><img src=\"https://colab.research.google.com/assets/colab-badge.svg\" alt=\"Open In Colab\"/></a>"
      ]
    },
    {
      "cell_type": "markdown",
      "metadata": {
        "id": "hFnrP7qVj5hO",
        "colab_type": "text"
      },
      "source": [
        "## Classmethod"
      ]
    },
    {
      "cell_type": "code",
      "metadata": {
        "id": "EzfJ3esykVFe",
        "colab_type": "code",
        "colab": {}
      },
      "source": [
        "!mkdir  datafile\n",
        "!cd datafile; touch data{1..10}.dat"
      ],
      "execution_count": 0,
      "outputs": []
    },
    {
      "cell_type": "code",
      "metadata": {
        "id": "25B3uDGSj45p",
        "colab_type": "code",
        "colab": {}
      },
      "source": [
        "import numpy as np\n",
        "import os\n",
        "\n",
        "class Dataset(object):\n",
        "  def __init__(self,folderpath):\n",
        "\n",
        "    self.datafolderpath = folderpath\n",
        "  def __len__(self):\n",
        "    return len(os.listdir(self.datafolderpath))\n",
        "  def __getitem__(self, index):\n",
        "    df = os.listdir(self.datafolderpath)[index]\n",
        "    return df\n",
        "  def haha2(self):\n",
        "    print(\"wojiao haha\")\n",
        "  @staticmethod\n",
        "  def haha():\n",
        "    print(\"wojiao haha2\")\n",
        "  @classmethod\n",
        "  def haha3(cls):\n",
        "    print(\"wojiao haha3\")\n"
      ],
      "execution_count": 0,
      "outputs": []
    },
    {
      "cell_type": "code",
      "metadata": {
        "id": "fsoimK0mkiIq",
        "colab_type": "code",
        "colab": {}
      },
      "source": [
        "trainingdataset = Dataset(\"./datafile\")"
      ],
      "execution_count": 0,
      "outputs": []
    },
    {
      "cell_type": "code",
      "metadata": {
        "id": "v4XDIBq3k8Bo",
        "colab_type": "code",
        "outputId": "a262dcdc-fb67-4e38-f2df-cb8622455ae1",
        "colab": {
          "base_uri": "https://localhost:8080/",
          "height": 34
        }
      },
      "source": [
        "len(trainingdataset)"
      ],
      "execution_count": 0,
      "outputs": [
        {
          "output_type": "execute_result",
          "data": {
            "text/plain": [
              "10"
            ]
          },
          "metadata": {
            "tags": []
          },
          "execution_count": 72
        }
      ]
    },
    {
      "cell_type": "code",
      "metadata": {
        "id": "3PvmB4OglVDo",
        "colab_type": "code",
        "outputId": "471b25d9-a8c7-4952-a197-220328294ef9",
        "colab": {
          "base_uri": "https://localhost:8080/",
          "height": 34
        }
      },
      "source": [
        "trainingdataset[2]"
      ],
      "execution_count": 0,
      "outputs": [
        {
          "output_type": "execute_result",
          "data": {
            "text/plain": [
              "'data9.dat'"
            ]
          },
          "metadata": {
            "tags": []
          },
          "execution_count": 73
        }
      ]
    },
    {
      "cell_type": "code",
      "metadata": {
        "id": "LQyocJuVlzuo",
        "colab_type": "code",
        "outputId": "8464d13b-3b13-42fc-b476-2a0802043605",
        "colab": {
          "base_uri": "https://localhost:8080/",
          "height": 34
        }
      },
      "source": [
        "Dataset.haha()"
      ],
      "execution_count": 0,
      "outputs": [
        {
          "output_type": "stream",
          "text": [
            "wojiao haha2\n"
          ],
          "name": "stdout"
        }
      ]
    },
    {
      "cell_type": "code",
      "metadata": {
        "id": "rEEtVpeVrWpE",
        "colab_type": "code",
        "outputId": "112f4f7e-f476-4de0-f596-89964dc8b76e",
        "colab": {
          "base_uri": "https://localhost:8080/",
          "height": 34
        }
      },
      "source": [
        "Dataset.haha3()"
      ],
      "execution_count": 0,
      "outputs": [
        {
          "output_type": "stream",
          "text": [
            "wojiao haha3\n"
          ],
          "name": "stdout"
        }
      ]
    },
    {
      "cell_type": "code",
      "metadata": {
        "id": "ZZ9fZdunr6Pt",
        "colab_type": "code",
        "colab": {}
      },
      "source": [
        "def ret(contents):\n",
        "  print(contents)\n",
        "  print(\"{1}-{2}\".format(**contents))\n",
        "  return \"{1}-{2}\".format(**contents)"
      ],
      "execution_count": 0,
      "outputs": []
    },
    {
      "cell_type": "code",
      "metadata": {
        "id": "ximQv9ZBtEGe",
        "colab_type": "code",
        "outputId": "d52c461e-b590-4a75-ca80-be07405c440a",
        "colab": {
          "base_uri": "https://localhost:8080/",
          "height": 34
        }
      },
      "source": [
        "date_info = {'year': \"2020\", 'month': \"01\", 'day': \"01\"}\n",
        "filename = \"{year}-{month}-{day}.txt\".format(**date_info)\n",
        "filename\n"
      ],
      "execution_count": 0,
      "outputs": [
        {
          "output_type": "execute_result",
          "data": {
            "text/plain": [
              "'2020-01-01.txt'"
            ]
          },
          "metadata": {
            "tags": []
          },
          "execution_count": 98
        }
      ]
    },
    {
      "cell_type": "code",
      "metadata": {
        "id": "aqBDh27h0Ih2",
        "colab_type": "code",
        "colab": {}
      },
      "source": [
        "vc =  Vocabulary(t, False, \"<UNK>\")\n",
        "\n",
        "\n",
        "content = {\"token_to_idx\":5, \"add_unk:\":False, unk_token:\"<UNK>\"}\n",
        "\n",
        "\n",
        "vc = Vocabulary.from_serializable(content)"
      ],
      "execution_count": 0,
      "outputs": []
    },
    {
      "cell_type": "code",
      "metadata": {
        "id": "KscUQpz_0xp0",
        "colab_type": "code",
        "colab": {}
      },
      "source": [
        "class FOO(object):\n",
        "  def __init__(self, id, name):\n",
        "    self.id = id\n",
        "    self.name = name\n",
        "  def sayHi(self):\n",
        "    print(\"hi my name is {}, my id is {}\".format(self.name, self.id))\n",
        "  @classmethod\n",
        "  def createfromdict(cls, dictionary):\n",
        "    return cls(**dictionary)\n",
        "  @classmethod\n",
        "  def createFromFile(cls, filename):\n",
        "    f = open(\"./dict.txt\").read()\n",
        "    dictionary = eval(f)\n",
        "    return cls(**dictionary)"
      ],
      "execution_count": 0,
      "outputs": []
    },
    {
      "cell_type": "code",
      "metadata": {
        "id": "kRcHRbgc1Yq9",
        "colab_type": "code",
        "colab": {}
      },
      "source": [
        "f1 = FOO(12,\"Zhe Wu\")"
      ],
      "execution_count": 0,
      "outputs": []
    },
    {
      "cell_type": "code",
      "metadata": {
        "id": "MqMlf5bN1dOR",
        "colab_type": "code",
        "outputId": "b0bcc6c9-6fa4-4225-8319-33e074b00a7e",
        "colab": {
          "base_uri": "https://localhost:8080/",
          "height": 34
        }
      },
      "source": [
        "f1.sayHi()"
      ],
      "execution_count": 0,
      "outputs": [
        {
          "output_type": "stream",
          "text": [
            "hi my name is Zhe Wu, my id is 12\n"
          ],
          "name": "stdout"
        }
      ]
    },
    {
      "cell_type": "code",
      "metadata": {
        "id": "opTFCYuK2G8P",
        "colab_type": "code",
        "colab": {}
      },
      "source": [
        ""
      ],
      "execution_count": 0,
      "outputs": []
    },
    {
      "cell_type": "code",
      "metadata": {
        "id": "bPYY85Li1edJ",
        "colab_type": "code",
        "outputId": "f9b86267-efca-4c2b-b834-5bc5b9cac8b0",
        "colab": {
          "base_uri": "https://localhost:8080/",
          "height": 34
        }
      },
      "source": [
        "dic1 = {\"id\":12, \"name\": \"Yamei\"}\n",
        "f2 = FOO.createfromdict(dic1)\n",
        "f2.sayHi()"
      ],
      "execution_count": 0,
      "outputs": [
        {
          "output_type": "stream",
          "text": [
            "hi my name is Yamei, my id is 12\n"
          ],
          "name": "stdout"
        }
      ]
    },
    {
      "cell_type": "code",
      "metadata": {
        "id": "qrl1iCfG1wPa",
        "colab_type": "code",
        "colab": {}
      },
      "source": [
        "!touch dict.txt"
      ],
      "execution_count": 0,
      "outputs": []
    },
    {
      "cell_type": "code",
      "metadata": {
        "id": "Uy70rueR2oAp",
        "colab_type": "code",
        "colab": {}
      },
      "source": [
        "f3 = FOO.createFromFile(\"./dict.txt\")"
      ],
      "execution_count": 0,
      "outputs": []
    },
    {
      "cell_type": "code",
      "metadata": {
        "id": "lEHyqEL_2_Tr",
        "colab_type": "code",
        "outputId": "0956b4ce-a385-4344-c40d-c35cbc2d91b2",
        "colab": {
          "base_uri": "https://localhost:8080/",
          "height": 34
        }
      },
      "source": [
        "f3.sayHi()"
      ],
      "execution_count": 0,
      "outputs": [
        {
          "output_type": "stream",
          "text": [
            "hi my name is Yamei, my id is 22\n"
          ],
          "name": "stdout"
        }
      ]
    },
    {
      "cell_type": "code",
      "metadata": {
        "id": "2kIWbgqp3C-X",
        "colab_type": "code",
        "colab": {}
      },
      "source": [
        "import pandas as pd\n"
      ],
      "execution_count": 0,
      "outputs": []
    },
    {
      "cell_type": "code",
      "metadata": {
        "id": "DhZjREOu3fHn",
        "colab_type": "code",
        "colab": {}
      },
      "source": [
        "pd.read ="
      ],
      "execution_count": 0,
      "outputs": []
    }
  ]
}